{
 "cells": [
  {
   "cell_type": "markdown",
   "metadata": {
    "ein.tags": "worksheet-0",
    "slideshow": {
     "slide_type": "-"
    }
   },
   "source": [
    "# Problem Set 3, due Wednesday, May 3rd, 5:30pm."
   ]
  },
  {
   "cell_type": "markdown",
   "metadata": {
    "ein.tags": "worksheet-0",
    "slideshow": {
     "slide_type": "-"
    }
   },
   "source": [
    "## Introduction to the assignment\n",
    "\n",
    "For this assignment, you will be using data from the [Progresa\n",
    "program](http://en.wikipedia.org/wiki/Oportunidades), a government\n",
    "social assistance program in Mexico. This program, as well as the\n",
    "details of its impact, are described in the paper \"[School subsidies\n",
    "for the poor: evaluating the Mexican Progresa poverty\n",
    "program](http://www.sciencedirect.com/science/article/pii/S0304387803001858)\",\n",
    "by Paul Shultz (available on Canvas).  The data\n",
    "(progresa_sample.csv.gz) is available on canvas\n",
    "in files/data.\n",
    "\n",
    "Please read the paper to familiarize yourself with\n",
    "the PROGRESA program before beginning this problem set, so you have a\n",
    "rough sense of where the data come from and how they were\n",
    "generated. If you just proceed into the problem set without\n",
    "understanding Progresa or the data, it will be very difficult!\n",
    "\n",
    "The goal of this problem set is to implement some of the basic\n",
    "econometric techniques that you are learning in class to measure the\n",
    "impact of Progresa on secondary school enrollment rates, in particular\n",
    "differences-in-differences.  Your task is to **estimate the impact of\n",
    "_progresa_ subsidies on the school attendance**.  Note: this asks to\n",
    "estimate a causal effect.\n",
    "\n",
    "The timeline of the program was:\n",
    "\n",
    " * Baseline survey conducted in 1997\n",
    " * Intervention begins in 1998, \"Wave 1\" of data collected in 1998\n",
    " * \"Wave 2 of data\" collected in 1999\n",
    " * Evaluation ends in 2000, at which point the control villages were treated. \n",
    " \n",
    "When you are ready, download the progresa_sample.csv data from\n",
    "Canvas. The data are actual data collected to evaluate the impact of\n",
    "the Progresa program.  In this file, each row corresponds to an\n",
    "observation taken for a given child for a given year. There are two\n",
    "years of data (1997 and 1998), and just under 40,000 children who are\n",
    "surveyed in both years.  For each child-year observation, the\n",
    "following variables are collected:\n",
    "\n",
    "| Variable name | Description|\n",
    "|------|------|\n",
    "|year\t  |year in which data is collected\n",
    "|sex\t  |male = 1|\n",
    "|indig\t  |indigenous = 1|\n",
    "|dist_sec |nearest distance to a secondary school|\n",
    "|sc\t      |enrolled in school in year of survey (=1)|\n",
    "|grc      |grade enrolled|\n",
    "|fam_n    |family size|\n",
    "|min_dist |\tmin distance to an urban center|\n",
    "|dist_cap |\tmin distance to the capital|\n",
    "|poor     |\tpoor = \"pobre\", not poor = \"no pobre\"|\n",
    "|progresa |treatment = \"basal\", control = \"0\"|\n",
    "|hohedu\t  |years of schooling of head of household|\n",
    "|hohwag\t  |monthly wages of head of household|\n",
    "|welfare_index|\twelfare index used to classify poor|\n",
    "|hohsex\t|gender of head of household (male=1)|\n",
    "|hohage\t|age of head of household|\n",
    "|age\t|years old|\n",
    "|folnum\t|individual id|\n",
    "|village|\tvillage id|\n",
    "|sc97\t|enrolled in school in 1997 (=1) |"
   ]
  },
  {
   "cell_type": "markdown",
   "metadata": {
    "ein.tags": "worksheet-0",
    "slideshow": {
     "slide_type": "-"
    }
   },
   "source": [
    "## Part 1: Descriptive analysis\n",
    "\n",
    "### 1.1\tSummary Statistics\n",
    "\n",
    "Report summary statistics (mean, standard deviation, and number of missings) for all of\n",
    "the demographic variables in the dataset (i.e., everything except\n",
    "year, folnum, village).  Present the actual levels for 'progresa' and\n",
    "'poor'.  Do these fit with the documentation above?\n",
    "\n",
    "Present these in a single table alphabetized\n",
    "by variable name. Do NOT simply expect the grader to scroll through\n",
    "your output!"
   ]
  },
  {
   "cell_type": "code",
   "execution_count": 404,
   "metadata": {
    "autoscroll": false,
    "ein.tags": "worksheet-0",
    "slideshow": {
     "slide_type": "-"
    }
   },
   "outputs": [],
   "source": [
    "import pandas as pd\n",
    "import numpy as np\n",
    "import matplotlib.pyplot as plt\n",
    "import statsmodels.formula.api as smf\n",
    "import scipy.stats as stats"
   ]
  },
  {
   "cell_type": "code",
   "execution_count": 405,
   "metadata": {},
   "outputs": [
    {
     "data": {
      "text/html": [
       "<div>\n",
       "<style scoped>\n",
       "    .dataframe tbody tr th:only-of-type {\n",
       "        vertical-align: middle;\n",
       "    }\n",
       "\n",
       "    .dataframe tbody tr th {\n",
       "        vertical-align: top;\n",
       "    }\n",
       "\n",
       "    .dataframe thead th {\n",
       "        text-align: right;\n",
       "    }\n",
       "</style>\n",
       "<table border=\"1\" class=\"dataframe\">\n",
       "  <thead>\n",
       "    <tr style=\"text-align: right;\">\n",
       "      <th></th>\n",
       "      <th>mean</th>\n",
       "      <th>std</th>\n",
       "      <th>null values</th>\n",
       "    </tr>\n",
       "  </thead>\n",
       "  <tbody>\n",
       "    <tr>\n",
       "      <th>age</th>\n",
       "      <td>11.366460</td>\n",
       "      <td>3.167744</td>\n",
       "      <td>0.0</td>\n",
       "    </tr>\n",
       "    <tr>\n",
       "      <th>dist_cap</th>\n",
       "      <td>147.674452</td>\n",
       "      <td>76.063134</td>\n",
       "      <td>0.0</td>\n",
       "    </tr>\n",
       "    <tr>\n",
       "      <th>dist_sec</th>\n",
       "      <td>2.418910</td>\n",
       "      <td>2.234109</td>\n",
       "      <td>0.0</td>\n",
       "    </tr>\n",
       "    <tr>\n",
       "      <th>fam_n</th>\n",
       "      <td>7.215715</td>\n",
       "      <td>2.352900</td>\n",
       "      <td>0.0</td>\n",
       "    </tr>\n",
       "    <tr>\n",
       "      <th>grc</th>\n",
       "      <td>3.963537</td>\n",
       "      <td>2.499063</td>\n",
       "      <td>6549.0</td>\n",
       "    </tr>\n",
       "    <tr>\n",
       "      <th>grc97</th>\n",
       "      <td>3.705372</td>\n",
       "      <td>2.572387</td>\n",
       "      <td>0.0</td>\n",
       "    </tr>\n",
       "    <tr>\n",
       "      <th>hohage</th>\n",
       "      <td>44.436717</td>\n",
       "      <td>11.620372</td>\n",
       "      <td>10.0</td>\n",
       "    </tr>\n",
       "    <tr>\n",
       "      <th>hohedu</th>\n",
       "      <td>2.768104</td>\n",
       "      <td>2.656106</td>\n",
       "      <td>0.0</td>\n",
       "    </tr>\n",
       "    <tr>\n",
       "      <th>hohsex</th>\n",
       "      <td>0.925185</td>\n",
       "      <td>0.263095</td>\n",
       "      <td>20.0</td>\n",
       "    </tr>\n",
       "    <tr>\n",
       "      <th>hohwag</th>\n",
       "      <td>586.985312</td>\n",
       "      <td>788.133664</td>\n",
       "      <td>0.0</td>\n",
       "    </tr>\n",
       "    <tr>\n",
       "      <th>indig</th>\n",
       "      <td>0.298324</td>\n",
       "      <td>0.457525</td>\n",
       "      <td>300.0</td>\n",
       "    </tr>\n",
       "    <tr>\n",
       "      <th>min_dist</th>\n",
       "      <td>103.447520</td>\n",
       "      <td>42.089441</td>\n",
       "      <td>0.0</td>\n",
       "    </tr>\n",
       "    <tr>\n",
       "      <th>poor</th>\n",
       "      <td>0.846498</td>\n",
       "      <td>0.360473</td>\n",
       "      <td>0.0</td>\n",
       "    </tr>\n",
       "    <tr>\n",
       "      <th>progresa</th>\n",
       "      <td>0.615663</td>\n",
       "      <td>0.486441</td>\n",
       "      <td>0.0</td>\n",
       "    </tr>\n",
       "    <tr>\n",
       "      <th>sc</th>\n",
       "      <td>0.819818</td>\n",
       "      <td>0.384342</td>\n",
       "      <td>8453.0</td>\n",
       "    </tr>\n",
       "    <tr>\n",
       "      <th>sc97</th>\n",
       "      <td>0.813922</td>\n",
       "      <td>0.389172</td>\n",
       "      <td>3872.0</td>\n",
       "    </tr>\n",
       "    <tr>\n",
       "      <th>sex</th>\n",
       "      <td>0.512211</td>\n",
       "      <td>0.499854</td>\n",
       "      <td>24.0</td>\n",
       "    </tr>\n",
       "    <tr>\n",
       "      <th>welfare_index</th>\n",
       "      <td>690.346564</td>\n",
       "      <td>139.491130</td>\n",
       "      <td>210.0</td>\n",
       "    </tr>\n",
       "  </tbody>\n",
       "</table>\n",
       "</div>"
      ],
      "text/plain": [
       "                     mean         std  null values\n",
       "age             11.366460    3.167744          0.0\n",
       "dist_cap       147.674452   76.063134          0.0\n",
       "dist_sec         2.418910    2.234109          0.0\n",
       "fam_n            7.215715    2.352900          0.0\n",
       "grc              3.963537    2.499063       6549.0\n",
       "grc97            3.705372    2.572387          0.0\n",
       "hohage          44.436717   11.620372         10.0\n",
       "hohedu           2.768104    2.656106          0.0\n",
       "hohsex           0.925185    0.263095         20.0\n",
       "hohwag         586.985312  788.133664          0.0\n",
       "indig            0.298324    0.457525        300.0\n",
       "min_dist       103.447520   42.089441          0.0\n",
       "poor             0.846498    0.360473          0.0\n",
       "progresa         0.615663    0.486441          0.0\n",
       "sc               0.819818    0.384342       8453.0\n",
       "sc97             0.813922    0.389172       3872.0\n",
       "sex              0.512211    0.499854         24.0\n",
       "welfare_index  690.346564  139.491130        210.0"
      ]
     },
     "execution_count": 405,
     "metadata": {},
     "output_type": "execute_result"
    }
   ],
   "source": [
    "# load it up\n",
    "df = pd.read_csv('progresa_sample.csv')\n",
    "\n",
    "# this changes the 'poor' column so that 'pobre' equals 1\n",
    "df['poor'] = np.where(df['poor'] == \"pobre\", 1, 0)\n",
    "\n",
    "# this changes the 'progresa' column so 'basal' equals 1\n",
    "df['progresa'] = np.where(df['progresa'] == \"basal\", 1, 0)\n",
    "\n",
    "# this produces summary stats and then reindexes alphabetically,\n",
    "# keeping only count, mean, and std (for use later)\n",
    "summary = df.describe().reindex(sorted(df.columns), axis=1)\n",
    "summary = summary[0:3]\n",
    "\n",
    "# this cleans up some stuff, dropping unnecessary columns\n",
    "summary.drop(['year', 'folnum', 'village'], axis=1, inplace=True)\n",
    "\n",
    "# and this collects the number of null values\n",
    "summary.loc['null values'] = df.isnull().sum()\n",
    "\n",
    "display = summary[1:].T\n",
    "display\n"
   ]
  },
  {
   "cell_type": "markdown",
   "metadata": {
    "ein.tags": "worksheet-0",
    "slideshow": {
     "slide_type": "-"
    }
   },
   "source": [
    "### 1.2 Differences at baseline?\n",
    "Now let's investigate the differences in baseline.  Are the baseline (1997) demographic characteristics **for the poor**\n",
    "different in treatment and control villages?\n",
    "\n",
    "I suggest you to use a T-Test to\n",
    "determine whether there is a statistically significant difference in\n",
    "the average values of each of the variables in the dataset. Focus only\n",
    "on the data from 1997 for poor.\n",
    "\n",
    "Present your results in a single table with the following columns and 14 (or so) rows:\n",
    "\n",
    "| Variable name | Average value (Treatment villages) | Average value (Control villages) | Difference (Treat - Control) | p-value |\n",
    "|------|------|------|------|------|\n",
    "|Male|?|?|?|?|\n"
   ]
  },
  {
   "cell_type": "code",
   "execution_count": 416,
   "metadata": {
    "autoscroll": false,
    "ein.tags": "worksheet-0",
    "slideshow": {
     "slide_type": "-"
    }
   },
   "outputs": [
    {
     "name": "stderr",
     "output_type": "stream",
     "text": [
      "/usr/local/anaconda3/lib/python3.6/site-packages/ipykernel_launcher.py:2: UserWarning: Boolean Series key will be reindexed to match DataFrame index.\n",
      "  \n"
     ]
    },
    {
     "data": {
      "text/html": [
       "<div>\n",
       "<style scoped>\n",
       "    .dataframe tbody tr th:only-of-type {\n",
       "        vertical-align: middle;\n",
       "    }\n",
       "\n",
       "    .dataframe tbody tr th {\n",
       "        vertical-align: top;\n",
       "    }\n",
       "\n",
       "    .dataframe thead th {\n",
       "        text-align: right;\n",
       "    }\n",
       "</style>\n",
       "<table border=\"1\" class=\"dataframe\">\n",
       "  <thead>\n",
       "    <tr style=\"text-align: right;\">\n",
       "      <th></th>\n",
       "      <th>Variable Name</th>\n",
       "      <th>Average Value (Control Villages)</th>\n",
       "      <th>Average Value (Treatment Villages)</th>\n",
       "      <th>Difference (Treat - Ctrl)</th>\n",
       "      <th>T-Statistic</th>\n",
       "      <th>P-Value</th>\n",
       "      <th>Significance?</th>\n",
       "    </tr>\n",
       "  </thead>\n",
       "  <tbody>\n",
       "    <tr>\n",
       "      <th>0</th>\n",
       "      <td>sex</td>\n",
       "      <td>0.506556</td>\n",
       "      <td>0.520268</td>\n",
       "      <td>0.013713</td>\n",
       "      <td>-2.506686</td>\n",
       "      <td>1.219172e-02</td>\n",
       "      <td>True</td>\n",
       "    </tr>\n",
       "    <tr>\n",
       "      <th>1</th>\n",
       "      <td>indig</td>\n",
       "      <td>0.325306</td>\n",
       "      <td>0.316744</td>\n",
       "      <td>-0.008562</td>\n",
       "      <td>1.161714</td>\n",
       "      <td>2.453603e-01</td>\n",
       "      <td>False</td>\n",
       "    </tr>\n",
       "    <tr>\n",
       "      <th>2</th>\n",
       "      <td>dist_sec</td>\n",
       "      <td>2.400687</td>\n",
       "      <td>2.399648</td>\n",
       "      <td>-0.001039</td>\n",
       "      <td>2.100433</td>\n",
       "      <td>3.569843e-02</td>\n",
       "      <td>True</td>\n",
       "    </tr>\n",
       "    <tr>\n",
       "      <th>3</th>\n",
       "      <td>sc</td>\n",
       "      <td>0.815066</td>\n",
       "      <td>0.822697</td>\n",
       "      <td>0.007631</td>\n",
       "      <td>-1.668745</td>\n",
       "      <td>9.517806e-02</td>\n",
       "      <td>False</td>\n",
       "    </tr>\n",
       "    <tr>\n",
       "      <th>4</th>\n",
       "      <td>grc</td>\n",
       "      <td>3.733653</td>\n",
       "      <td>3.709214</td>\n",
       "      <td>-0.024439</td>\n",
       "      <td>0.400196</td>\n",
       "      <td>6.890151e-01</td>\n",
       "      <td>False</td>\n",
       "    </tr>\n",
       "    <tr>\n",
       "      <th>5</th>\n",
       "      <td>fam_n</td>\n",
       "      <td>7.302939</td>\n",
       "      <td>7.281032</td>\n",
       "      <td>-0.021907</td>\n",
       "      <td>0.794167</td>\n",
       "      <td>4.271039e-01</td>\n",
       "      <td>False</td>\n",
       "    </tr>\n",
       "    <tr>\n",
       "      <th>6</th>\n",
       "      <td>min_dist</td>\n",
       "      <td>103.098348</td>\n",
       "      <td>107.395231</td>\n",
       "      <td>4.296884</td>\n",
       "      <td>-8.206584</td>\n",
       "      <td>2.358312e-16</td>\n",
       "      <td>True</td>\n",
       "    </tr>\n",
       "    <tr>\n",
       "      <th>7</th>\n",
       "      <td>dist_cap</td>\n",
       "      <td>154.492095</td>\n",
       "      <td>151.801472</td>\n",
       "      <td>-2.690622</td>\n",
       "      <td>3.339081</td>\n",
       "      <td>8.415005e-04</td>\n",
       "      <td>True</td>\n",
       "    </tr>\n",
       "    <tr>\n",
       "      <th>8</th>\n",
       "      <td>hohedu</td>\n",
       "      <td>2.660982</td>\n",
       "      <td>2.726729</td>\n",
       "      <td>0.065747</td>\n",
       "      <td>-2.541229</td>\n",
       "      <td>1.105093e-02</td>\n",
       "      <td>True</td>\n",
       "    </tr>\n",
       "    <tr>\n",
       "      <th>9</th>\n",
       "      <td>hohwag</td>\n",
       "      <td>580.694452</td>\n",
       "      <td>550.207086</td>\n",
       "      <td>-30.487366</td>\n",
       "      <td>3.594588</td>\n",
       "      <td>3.253835e-04</td>\n",
       "      <td>True</td>\n",
       "    </tr>\n",
       "    <tr>\n",
       "      <th>10</th>\n",
       "      <td>welfare_index</td>\n",
       "      <td>661.593513</td>\n",
       "      <td>656.810476</td>\n",
       "      <td>-4.783037</td>\n",
       "      <td>3.188594</td>\n",
       "      <td>1.431016e-03</td>\n",
       "      <td>True</td>\n",
       "    </tr>\n",
       "    <tr>\n",
       "      <th>11</th>\n",
       "      <td>hohsex</td>\n",
       "      <td>0.923387</td>\n",
       "      <td>0.925586</td>\n",
       "      <td>0.002199</td>\n",
       "      <td>-0.566312</td>\n",
       "      <td>5.711858e-01</td>\n",
       "      <td>False</td>\n",
       "    </tr>\n",
       "    <tr>\n",
       "      <th>12</th>\n",
       "      <td>hohage</td>\n",
       "      <td>44.270717</td>\n",
       "      <td>43.631234</td>\n",
       "      <td>-0.639483</td>\n",
       "      <td>4.775962</td>\n",
       "      <td>1.796243e-06</td>\n",
       "      <td>True</td>\n",
       "    </tr>\n",
       "    <tr>\n",
       "      <th>13</th>\n",
       "      <td>age</td>\n",
       "      <td>10.785586</td>\n",
       "      <td>10.743825</td>\n",
       "      <td>-0.041761</td>\n",
       "      <td>0.708630</td>\n",
       "      <td>4.785594e-01</td>\n",
       "      <td>False</td>\n",
       "    </tr>\n",
       "    <tr>\n",
       "      <th>14</th>\n",
       "      <td>time</td>\n",
       "      <td>0.000000</td>\n",
       "      <td>0.000000</td>\n",
       "      <td>0.000000</td>\n",
       "      <td>NaN</td>\n",
       "      <td>NaN</td>\n",
       "      <td>False</td>\n",
       "    </tr>\n",
       "  </tbody>\n",
       "</table>\n",
       "</div>"
      ],
      "text/plain": [
       "    Variable Name  Average Value (Control Villages)  \\\n",
       "0             sex                          0.506556   \n",
       "1           indig                          0.325306   \n",
       "2        dist_sec                          2.400687   \n",
       "3              sc                          0.815066   \n",
       "4             grc                          3.733653   \n",
       "5           fam_n                          7.302939   \n",
       "6        min_dist                        103.098348   \n",
       "7        dist_cap                        154.492095   \n",
       "8          hohedu                          2.660982   \n",
       "9          hohwag                        580.694452   \n",
       "10  welfare_index                        661.593513   \n",
       "11         hohsex                          0.923387   \n",
       "12         hohage                         44.270717   \n",
       "13            age                         10.785586   \n",
       "14           time                          0.000000   \n",
       "\n",
       "    Average Value (Treatment Villages)  Difference (Treat - Ctrl)  \\\n",
       "0                             0.520268                   0.013713   \n",
       "1                             0.316744                  -0.008562   \n",
       "2                             2.399648                  -0.001039   \n",
       "3                             0.822697                   0.007631   \n",
       "4                             3.709214                  -0.024439   \n",
       "5                             7.281032                  -0.021907   \n",
       "6                           107.395231                   4.296884   \n",
       "7                           151.801472                  -2.690622   \n",
       "8                             2.726729                   0.065747   \n",
       "9                           550.207086                 -30.487366   \n",
       "10                          656.810476                  -4.783037   \n",
       "11                            0.925586                   0.002199   \n",
       "12                           43.631234                  -0.639483   \n",
       "13                           10.743825                  -0.041761   \n",
       "14                            0.000000                   0.000000   \n",
       "\n",
       "    T-Statistic       P-Value  Significance?  \n",
       "0     -2.506686  1.219172e-02           True  \n",
       "1      1.161714  2.453603e-01          False  \n",
       "2      2.100433  3.569843e-02           True  \n",
       "3     -1.668745  9.517806e-02          False  \n",
       "4      0.400196  6.890151e-01          False  \n",
       "5      0.794167  4.271039e-01          False  \n",
       "6     -8.206584  2.358312e-16           True  \n",
       "7      3.339081  8.415005e-04           True  \n",
       "8     -2.541229  1.105093e-02           True  \n",
       "9      3.594588  3.253835e-04           True  \n",
       "10     3.188594  1.431016e-03           True  \n",
       "11    -0.566312  5.711858e-01          False  \n",
       "12     4.775962  1.796243e-06           True  \n",
       "13     0.708630  4.785594e-01          False  \n",
       "14          NaN           NaN          False  "
      ]
     },
     "execution_count": 416,
     "metadata": {},
     "output_type": "execute_result"
    }
   ],
   "source": [
    "# start by subset!\n",
    "baseline = df[df.year == 97][df.poor == 1]\n",
    "baseline_treat = baseline[baseline.progresa == 1]\n",
    "baseline_control = baseline[baseline.progresa == 0]\n",
    "\n",
    "# let's drop the same coumns we did above\n",
    "# we can get rid of these because producing average values for them\n",
    "# won't tell us anything at all\n",
    "#\n",
    "# we can also drop poor (=1) and sc97/grc97 (same as sc/grc in this context)\n",
    "baseline.drop(['year', 'folnum', 'village', 'poor', 'sc97', 'grc97'], axis=1, inplace=True)\n",
    "\n",
    "\n",
    "baseline = baseline.dropna().groupby('progresa').mean().T.reset_index()\n",
    "baseline.columns = ['variable' ,'control', 'treatment']\n",
    "baseline['difference (means)'] = baseline.treatment - baseline.control\n",
    "\n",
    "\n",
    "# here's the actual t-test calculations... sorry for the loop ott, i know how you hate them!\n",
    "varlist = list(baseline.variable)\n",
    "test = [ stats.ttest_ind(baseline_control[i], baseline_treat[i], nan_policy='omit') for i in varlist ]\n",
    "\n",
    "# and let's make it into a dataframe\n",
    "ttest = pd.DataFrame(index = varlist, data = test)\n",
    "\n",
    "# and add a column that tells us about significance\n",
    "ttest['significance'] = ttest.pvalue < 0.05\n",
    "\n",
    "# renaming the ttest dataframe so we can combine it with the baseline info\n",
    "ttest = ttest.reset_index()\n",
    "ttest.columns = ['variable', 't-stat', 'pvalue', 'significance']\n",
    "result = pd.merge(baseline, ttest, on='variable')\n",
    "\n",
    "# ...and final cleanup\n",
    "result.columns = ['Variable Name' ,'Average Value (Control Villages)', \\\n",
    "                  'Average Value (Treatment Villages)', 'Difference (Treat - Ctrl)',\\\n",
    "                  'T-Statistic', 'P-Value', 'Significance?']\n",
    "result"
   ]
  },
  {
   "cell_type": "markdown",
   "metadata": {
    "ein.tags": "worksheet-0",
    "slideshow": {
     "slide_type": "-"
    }
   },
   "source": [
    "### 1.3 Interpretation\n",
    "\n",
    "* A: Are there statistically significant differences between treatment and control villages as baseline?\n",
    "\n",
    "*Yes, there are. See the 'Significance?' column above for entries labeled TRUE.*\n",
    "\n",
    "* B: Why does it matter if there are differences at baseline?\n",
    "\n",
    "*The goal of a t-test is to determine if there are differences between the means of two distributions, so that we can compare them adequately. As part of the t-test, we assume that the distributions are independent. If there are differences at baseline (i.e. if some statistical significance is shown), that means that it is harder to assert that some of the variables are independent.*\n",
    "\n",
    "* C: What does this imply about how to measure the impact of the treatment?\n",
    "\n",
    "*If we see statistical differences between populations at baseline, it means that the segregation method used to divide those two populations into different groups is flawed. If this is the case, this means we cannot assert that our experiment is truly random, and the outcomes may be called into question. We should probably use stratified random sampling in order to obtain a more representative sample, rather than just random. It may better address categories that \"overlap\" within our population.*\n"
   ]
  },
  {
   "cell_type": "markdown",
   "metadata": {
    "ein.tags": "worksheet-0",
    "slideshow": {
     "slide_type": "-"
    }
   },
   "source": [
    "### 1.4 Graphical exploration, part 1\n",
    "\n",
    "For each level of household head education, compute the average\n",
    "enrollment rate in 1997. Create a scatterplot that shows this\n",
    "relationship. What do you notice?"
   ]
  },
  {
   "cell_type": "code",
   "execution_count": 408,
   "metadata": {
    "autoscroll": false,
    "ein.tags": "worksheet-0",
    "slideshow": {
     "slide_type": "-"
    }
   },
   "outputs": [
    {
     "name": "stderr",
     "output_type": "stream",
     "text": [
      "/usr/local/anaconda3/lib/python3.6/site-packages/ipykernel_launcher.py:3: UserWarning: Boolean Series key will be reindexed to match DataFrame index.\n",
      "  This is separate from the ipykernel package so we can avoid doing imports until\n"
     ]
    },
    {
     "data": {
      "image/png": "[encoded data removed]",
      "text/plain": [
       "<matplotlib.figure.Figure at 0x1a0dd43e10>"
      ]
     },
     "metadata": {},
     "output_type": "display_data"
    }
   ],
   "source": [
    "# using the 'baseline' variable from above (which subsets df.year==97), we can\n",
    "# group by head-of-household education, and then get the mean of enrollment\n",
    "ed = df[df.year == 97][df.poor == 1]\n",
    "education = ed.groupby(['hohedu']).sc.mean().reset_index()\n",
    "\n",
    "# then plot it\n",
    "plt.scatter(education.hohedu, education.sc)\n",
    "plt.title(\"education vs. enrollment\")\n",
    "plt.show()"
   ]
  },
  {
   "cell_type": "markdown",
   "metadata": {
    "ein.tags": "worksheet-0",
    "slideshow": {
     "slide_type": "-"
    }
   },
   "source": [
    "*It seems that, with a couple of exceptions, there's an upward trajectory from 0 years of head-of-household education until 18 years (the max), while the level of enrollment drops dramatically (by half!) at 20 years. I would guess this has something to do with school subsidies not being as necessary if the head of household has higher education (read: gotten that oh-so-important credential). If you have more education, you most likely are at a lower risk for poverty, and thus would not have to enroll your children in this particular social program.*"
   ]
  },
  {
   "cell_type": "markdown",
   "metadata": {
    "ein.tags": "worksheet-0",
    "slideshow": {
     "slide_type": "-"
    }
   },
   "source": [
    "### 1.5 Graphical exploration, part 2\n",
    "\n",
    "Create a histogram of village enrollment rates **among poor households\n",
    "in treated villages**, before and after treatment.  Specifically, for\n",
    "each village, calculate the average rate of enrollment of poor\n",
    "households in treated villages in 1997, then compute the average rate\n",
    "of enrollment of poor households in treated villages in 1998. Create\n",
    "two separate histograms showing the distribution of these average\n",
    "enrollments rates, one histogram for 1997 and one histogram for\n",
    "1998. On each histogram, draw a vertical line that intersects the\n",
    "x-axis at the average value (across all households). Does there appear\n",
    "to be a difference? Is this difference statistically significant?"
   ]
  },
  {
   "cell_type": "code",
   "execution_count": 417,
   "metadata": {
    "autoscroll": false,
    "ein.tags": "worksheet-0",
    "slideshow": {
     "slide_type": "-"
    }
   },
   "outputs": [
    {
     "name": "stderr",
     "output_type": "stream",
     "text": [
      "/usr/local/anaconda3/lib/python3.6/site-packages/ipykernel_launcher.py:7: UserWarning: Boolean Series key will be reindexed to match DataFrame index.\n",
      "  import sys\n",
      "/usr/local/anaconda3/lib/python3.6/site-packages/ipykernel_launcher.py:11: UserWarning: Boolean Series key will be reindexed to match DataFrame index.\n",
      "  # This is added back by InteractiveShellApp.init_path()\n"
     ]
    },
    {
     "data": {
      "image/png": "[encoded data removed]",
      "text/plain": [
       "<matplotlib.figure.Figure at 0x1a0dde1b00>"
      ]
     },
     "metadata": {},
     "output_type": "display_data"
    },
    {
     "data": {
      "image/png": "[encoded data removed]",
      "text/plain": [
       "<matplotlib.figure.Figure at 0x1a0fdfab70>"
      ]
     },
     "metadata": {},
     "output_type": "display_data"
    },
    {
     "name": "stdout",
     "output_type": "stream",
     "text": [
      "difference between means (pct): 0.0156967932034231 \n",
      "\n",
      "t-statistic: -2.015713486515638 \n",
      "p-value: 0.04424870036572115\n"
     ]
    }
   ],
   "source": [
    "# let's make a new variable really quick, and group the important information\n",
    "village = df.groupby(['village', 'year', 'poor', 'progresa']).sc.mean().reset_index()\n",
    "\n",
    "# then let's do some smart subsetting, by year\n",
    "ninetyseven = village[village.year == 97]\n",
    "# then by poor and treatment\n",
    "ninetyseven = ninetyseven[ninetyseven.poor == 1][ninetyseven.progresa == 1]\n",
    "\n",
    "# same thing here...\n",
    "ninetyeight = village[village.year == 98]\n",
    "ninetyeight = ninetyeight[ninetyeight.poor == 1][ninetyeight.progresa == 1]\n",
    "\n",
    "# and then we plot, with the '97 data first\n",
    "plt.figure(figsize=(16, 9))\n",
    "# we set the axes to make sure the graphs are the same aspect ratio and scale\n",
    "plt.xlim([0.4,1])\n",
    "plt.ylim([0,100])\n",
    "plt.hist(ninetyseven.sc)\n",
    "plt.title('enrollment before')\n",
    "plt.axvline(x=ninetyseven.sc.mean(), alpha=0.5, color='red')\n",
    "plt.show()\n",
    "\n",
    "# and now the '98\n",
    "plt.figure(figsize=(16, 9))\n",
    "plt.xlim([0.4,1])\n",
    "plt.ylim([0,100])\n",
    "plt.hist(ninetyeight.sc)\n",
    "plt.title('enrollment after')\n",
    "plt.axvline(x=ninetyeight.sc.mean(), alpha=0.5, color='red')\n",
    "plt.show()\n",
    "\n",
    "difference = ninetyeight.sc.mean() - ninetyseven.sc.mean()\n",
    "\n",
    "# we're trying to get a t-test for the means of two independent samples, so...\n",
    "ttest = stats.ttest_ind(ninetyseven.sc, ninetyeight.sc, nan_policy='omit')\n",
    "\n",
    "print(\"difference between means (pct):\", difference\\\n",
    "      , \"\\n\\nt-statistic:\", ttest[0],\"\\np-value:\", ttest[1])"
   ]
  },
  {
   "cell_type": "markdown",
   "metadata": {
    "ein.tags": "worksheet-0",
    "slideshow": {
     "slide_type": "-"
    }
   },
   "source": [
    "* Is there a difference? Is the difference statistically significant?\n",
    "\n",
    "*There appears to be a difference between the average values for households across years, of a couple percent (in actuality, 1.56%). If the null hypothesis is that there is no difference in enrollment, the alternative is that there would be greater enrollment. Calculating the t-test and observing the p-values lets us know that the means are really close to but outside of the critical range (-2, 2), and that the difference between the two of these means is statistically significant.*"
   ]
  },
  {
   "cell_type": "markdown",
   "metadata": {
    "ein.tags": "worksheet-0",
    "slideshow": {
     "slide_type": "-"
    }
   },
   "source": [
    "## Part 2: Measuring Impact\n",
    "\n",
    "Our goal is to estimate the causal impact of the PROGRESA program on\n",
    "the social and economic outcomes of individuals in Mexico. We will\n",
    "focus on the impact of the program on the poor (those with\n",
    "poor=='pobre'), since only the poor were eligible to receive the\n",
    "PROGRESA assistance.\n",
    "\n",
    "### 2.1 Cross-Sectional Estimator: T-test\n",
    "\n",
    "Begin by estimating the impact of Progresa using \"simple differences.\"\n",
    "Restricting yourself to data from 1998 (after treatment), calculate\n",
    "the average enrollment rate among **poor** households in the Treatment\n",
    "villages and the average enrollment rate among **poor** households in\n",
    "the control villages. Use a t-test to determine if this difference is\n",
    "statistically significant. What do you conclude?"
   ]
  },
  {
   "cell_type": "code",
   "execution_count": 410,
   "metadata": {
    "autoscroll": false,
    "ein.tags": "worksheet-0",
    "slideshow": {
     "slide_type": "-"
    }
   },
   "outputs": [
    {
     "name": "stdout",
     "output_type": "stream",
     "text": [
      "the mean for the cse control group is 0.807636956730308 \n",
      "the mean for the cse treatment group is 0.8464791213954308 \n",
      "the t-statistic is 8.358720567418374 and the p-value is 6.636344447378102e-17\n"
     ]
    },
    {
     "name": "stderr",
     "output_type": "stream",
     "text": [
      "/usr/local/anaconda3/lib/python3.6/site-packages/ipykernel_launcher.py:4: UserWarning: Boolean Series key will be reindexed to match DataFrame index.\n",
      "  after removing the cwd from sys.path.\n",
      "/usr/local/anaconda3/lib/python3.6/site-packages/ipykernel_launcher.py:5: UserWarning: Boolean Series key will be reindexed to match DataFrame index.\n",
      "  \"\"\"\n"
     ]
    }
   ],
   "source": [
    "# let's reindex the dataframe a little bit, grouping by\n",
    "# poor, year, and treatment\n",
    "\n",
    "csecont = df[df.poor == 1][df.year == 98][df.progresa == 0]\n",
    "csetreat = df[df.poor == 1][df.year == 98][df.progresa == 1]\n",
    "\n",
    "# and then run a t-test, omitting NAs\n",
    "csetstat = stats.ttest_ind(csetreat.sc, csecont.sc, nan_policy='omit')\n",
    "\n",
    "print(\"the mean for the cse control group is\",\\\n",
    "      csecont.sc.mean(), \"\\nthe mean for the cse treatment group is\", csetreat.sc.mean()\\\n",
    "     ,\"\\nthe t-statistic is\", csetstat.statistic, \"and the p-value is\", csetstat.pvalue)\n"
   ]
  },
  {
   "cell_type": "markdown",
   "metadata": {
    "ein.tags": "worksheet-0",
    "slideshow": {
     "slide_type": "-"
    }
   },
   "source": [
    "*After performing a cross-sectional estimator, we see that the t-statistic is outside of the critical range, and the p-value suggests significance. The difference between means is about 4%, and it appears to be a true difference (the treatment and control means are different). Practically we can conclude that Progresa appears to help poor people.*"
   ]
  },
  {
   "cell_type": "markdown",
   "metadata": {
    "ein.tags": "worksheet-0",
    "slideshow": {
     "slide_type": "-"
    }
   },
   "source": [
    "### 2.2 Cross-Sectional Estimator: Regression\n",
    "\n",
    "Estimate the effects of Progresa on enrollment using a regression\n",
    "model, by regressing the 1998 enrollment rates **of the poor** on\n",
    "treatment assignment.  Do not include any additional control\n",
    "variables.\n",
    "Discuss the following:\n",
    "\n",
    "* Based on this model, how much did Progresa increase the likelihood of a child enrolling?\n",
    "* How does your regression estimate compare to your t-test estimate from part 2.1?\n",
    "* Based on this regression model, can we reject the null hypothesis that the treatment effects are zero? \n",
    "* What is the counterfactual assumption underlying this regression?\n",
    "\n",
    "Note: I recommend to use statsmodels.formula.api as this allows to use\n",
    "convenient R-style formulas and provedes nice summaries of the results."
   ]
  },
  {
   "cell_type": "code",
   "execution_count": 411,
   "metadata": {
    "autoscroll": false,
    "ein.tags": "worksheet-0",
    "slideshow": {
     "slide_type": "-"
    }
   },
   "outputs": [
    {
     "name": "stdout",
     "output_type": "stream",
     "text": [
      "                            OLS Regression Results                            \n",
      "==============================================================================\n",
      "Dep. Variable:                     sc   R-squared:                       0.003\n",
      "Model:                            OLS   Adj. R-squared:                  0.003\n",
      "Method:                 Least Squares   F-statistic:                     69.87\n",
      "Date:                Wed, 02 May 2018   Prob (F-statistic):           6.64e-17\n",
      "Time:                        13:22:46   Log-Likelihood:                -11926.\n",
      "No. Observations:               27450   AIC:                         2.386e+04\n",
      "Df Residuals:                   27448   BIC:                         2.387e+04\n",
      "Df Model:                           1                                         \n",
      "Covariance Type:            nonrobust                                         \n",
      "==============================================================================\n",
      "                 coef    std err          t      P>|t|      [0.025      0.975]\n",
      "------------------------------------------------------------------------------\n",
      "Intercept      0.8076      0.004    220.676      0.000       0.800       0.815\n",
      "progresa       0.0388      0.005      8.359      0.000       0.030       0.048\n",
      "==============================================================================\n",
      "Omnibus:                     7638.939   Durbin-Watson:                   1.734\n",
      "Prob(Omnibus):                  0.000   Jarque-Bera (JB):            15767.534\n",
      "Skew:                          -1.767   Prob(JB):                         0.00\n",
      "Kurtosis:                       4.140   Cond. No.                         3.01\n",
      "==============================================================================\n",
      "\n",
      "Warnings:\n",
      "[1] Standard Errors assume that the covariance matrix of the errors is correctly specified.\n"
     ]
    },
    {
     "name": "stderr",
     "output_type": "stream",
     "text": [
      "/usr/local/anaconda3/lib/python3.6/site-packages/ipykernel_launcher.py:2: UserWarning: Boolean Series key will be reindexed to match DataFrame index.\n",
      "  \n"
     ]
    }
   ],
   "source": [
    "# Your code here\n",
    "regress = df[df.year == 98][df.poor == 1]\n",
    "m = smf.ols(formula = \"sc~progresa\", data=regress).fit()\n",
    "print(m.summary())"
   ]
  },
  {
   "cell_type": "markdown",
   "metadata": {
    "ein.tags": "worksheet-0",
    "slideshow": {
     "slide_type": "-"
    }
   },
   "source": [
    "* Based on this model, how much did Progresa increase the likelihood of a child enrolling?\n",
    "\n",
    "*Looking at the predicted slope coefficient for 'progresa', which is interpreted as the mean change of the response variable for one unit of change in the predictor variable while holding other predictors in the model constant (what a mouthful!), it appears that progresa creates a change of about 3.9% of that unit. It appears to be a statistically significant difference as well, which is good for us, and has minimal error.*\n",
    "\n",
    "* How does your regression estimate compare to your t-test estimate from part 2.1?\n",
    "\n",
    "*It is approximately the same for both the regression coefficients and the t-test estimate. We take the intercept and add in the effect size for progresa, and get ~0.84, with a t-statistic of 8.359.*\n",
    "\n",
    "* Based on this regression model, can we reject the null hypothesis that the treatment effects are zero? \n",
    "\n",
    "*Yes, we can reject the null hypothesis that treatment effects are zero. There is some statistical significance, in terms of the p-value threshold.*\n",
    "\n",
    "* What is the counterfactual assumption underlying this regression?\n",
    "\n",
    "*The counterfactual assumption underlying this regression is that if a member of the target population (i.e. a poor village person from 1998) recieves treatment (i.e. a stimulus that supports going to school) that school enrollment will change, and there would be no other external factors that could cause it to change.*"
   ]
  },
  {
   "cell_type": "markdown",
   "metadata": {
    "ein.tags": "worksheet-0",
    "slideshow": {
     "slide_type": "-"
    }
   },
   "source": [
    "### 2.3 Multiple Regression\n",
    "\n",
    "Re-run the above regression estimated but this time include a set of\n",
    "relevant control variables. Include, for instance, age, distance to a secondary\n",
    "school, gender, education of household head, welfare index,\n",
    "indigenous, etc.\n",
    "\n",
    "* How do the controls affect the point estimate of treatment effect?\n",
    "* How do the controls affect the standard error on the treatment effect? \n",
    "* How do you interpret the differences (or similarities) between your estimates of 2.2 and 2.3?"
   ]
  },
  {
   "cell_type": "code",
   "execution_count": 412,
   "metadata": {
    "autoscroll": false,
    "ein.tags": "worksheet-0",
    "slideshow": {
     "slide_type": "-"
    }
   },
   "outputs": [
    {
     "name": "stdout",
     "output_type": "stream",
     "text": [
      "                            OLS Regression Results                            \n",
      "==============================================================================\n",
      "Dep. Variable:                     sc   R-squared:                       0.302\n",
      "Model:                            OLS   Adj. R-squared:                  0.302\n",
      "Method:                 Least Squares   F-statistic:                     983.9\n",
      "Date:                Wed, 02 May 2018   Prob (F-statistic):               0.00\n",
      "Time:                        13:22:48   Log-Likelihood:                -7004.3\n",
      "No. Observations:               27277   AIC:                         1.403e+04\n",
      "Df Residuals:                   27264   BIC:                         1.414e+04\n",
      "Df Model:                          12                                         \n",
      "Covariance Type:            nonrobust                                         \n",
      "==============================================================================\n",
      "                 coef    std err          t      P>|t|      [0.025      0.975]\n",
      "------------------------------------------------------------------------------\n",
      "Intercept      1.6594      0.016    102.204      0.000       1.628       1.691\n",
      "progresa       0.0331      0.004      8.441      0.000       0.025       0.041\n",
      "dist_sec      -0.0075      0.001     -8.553      0.000      -0.009      -0.006\n",
      "grc            0.0505      0.001     34.479      0.000       0.048       0.053\n",
      "fam_n          0.0016      0.001      1.935      0.053   -2.14e-05       0.003\n",
      "indig          0.0278      0.005      5.995      0.000       0.019       0.037\n",
      "min_dist       0.0003   6.22e-05      5.549      0.000       0.000       0.000\n",
      "dist_cap       0.0002   3.63e-05      5.337      0.000       0.000       0.000\n",
      "hohedu         0.0039      0.001      4.659      0.000       0.002       0.006\n",
      "hohwag     -1.525e-06   2.77e-06     -0.551      0.582   -6.95e-06     3.9e-06\n",
      "hohsex         0.0046      0.008      0.609      0.542      -0.010       0.019\n",
      "hohage        -0.0003      0.000     -1.819      0.069      -0.001    2.63e-05\n",
      "age           -0.0998      0.001    -83.342      0.000      -0.102      -0.097\n",
      "==============================================================================\n",
      "Omnibus:                     3249.639   Durbin-Watson:                   1.733\n",
      "Prob(Omnibus):                  0.000   Jarque-Bera (JB):             4547.150\n",
      "Skew:                          -0.948   Prob(JB):                         0.00\n",
      "Kurtosis:                       3.637   Cond. No.                     7.95e+03\n",
      "==============================================================================\n",
      "\n",
      "Warnings:\n",
      "[1] Standard Errors assume that the covariance matrix of the errors is correctly specified.\n",
      "[2] The condition number is large, 7.95e+03. This might indicate that there are\n",
      "strong multicollinearity or other numerical problems.\n"
     ]
    }
   ],
   "source": [
    "# we can reuse the same data variable as above, but let's change model variable\n",
    "n = smf.ols(formula = \\\n",
    "            \"sc~progresa + dist_sec + grc + fam_n + indig+ min_dist\\\n",
    "            + dist_cap + hohedu + hohwag + hohsex + hohage + age\",\\\n",
    "            data=regress).fit()\n",
    "print(n.summary())"
   ]
  },
  {
   "cell_type": "markdown",
   "metadata": {},
   "source": [
    "* How do the controls affect the point estimate of treatment effect?\n",
    "\n",
    "*We see that the addition of additional controls decreases the point estimate of the treatment effect slightly; and the t-statistic threshold increases slightly. Overall the results become more significant.*\n",
    "\n",
    "* How do the controls affect the standard error on the treatment effect?\n",
    "\n",
    "*The standard error decreases slightly between the two different models.*\n",
    "\n",
    "* How do you interpret the differences (or similarities) between your estimates of 2.2 and 2.3?\n",
    "\n",
    "*When you add a variable to a regression model, you are controlling for it, which means you are keeping it constant. If all of the independent variables are uncorrelated, then the coefficients (the betas) of the variable should not change. However, in real life, it is often hard to isolate variables to that degree in observations (especially like the real-world situation of the Progresa study), which suggests that you have to take into account intersectional effects.*\n",
    "\n",
    "*Simply, if you ask a different question, you get a different answer. Between questions 2.2 and 2.3 we are asking different questions--though they are quite similar, we come to different results.*"
   ]
  },
  {
   "cell_type": "markdown",
   "metadata": {
    "ein.tags": "worksheet-0",
    "slideshow": {
     "slide_type": "-"
    }
   },
   "source": [
    "### 2.4 Difference-in-Difference, version 1 (tabular)\n",
    "\n",
    "Thus far, we have computed the effects of Progresa by estimating the\n",
    "difference in 1998 enrollment rates across villages. An alternative\n",
    "approach would be to compute the treatment effect using a\n",
    "difference-in-differences framework.\n",
    "\n",
    "Begin by estimating the average treatment effects of the program for poor households using data from 1997 and 1998. Specifically, calculate:\n",
    "\n",
    "a) the difference (between 1997 and 1998) in enrollment rates among poor households in treated villages\n",
    "\n",
    "b) the difference (between 1997 and 1998) in enrollment rates among poor households in control villages.\n",
    "\n",
    "c) The difference between these two differences is your estimate.\n",
    "\n",
    "* What is your estimate of the impact, and how does it compare to your earlier (simple difference) results?\n",
    "\n",
    "* What is the counterfactual assumption underlying this estimate? \n"
   ]
  },
  {
   "cell_type": "code",
   "execution_count": 413,
   "metadata": {
    "autoscroll": false,
    "ein.tags": "worksheet-0",
    "slideshow": {
     "slide_type": "-"
    }
   },
   "outputs": [
    {
     "name": "stdout",
     "output_type": "stream",
     "text": [
      "a (treatment difference): 0.023782233992046597 \n",
      "b (control difference)  : -0.007549046327276487 \n",
      "c (diff-in-diff)        : 0.031331280319323085\n"
     ]
    }
   ],
   "source": [
    "diff = df[df.poor == 1].groupby(['year', 'progresa']).sc.mean()\n",
    "diff\n",
    "treat = diff[3] - diff[1]\n",
    "cont = diff[2] - diff[0]\n",
    "diffindiff = treat - cont\n",
    "print(\"a (treatment difference):\",treat, \"\\nb (control difference)  :\",\\\n",
    "      cont,\"\\nc (diff-in-diff)        :\", diffindiff)"
   ]
  },
  {
   "cell_type": "markdown",
   "metadata": {
    "ein.tags": "worksheet-0",
    "slideshow": {
     "slide_type": "-"
    }
   },
   "source": [
    "* What is your estimate of the impact, and how does it compare to your earlier (simple difference) results?\n",
    "\n",
    "*Using the tabular method, it appears that the effect size should be around 0.031. This is really close to the multi-regression and significantly lower than the cross-sectional estimator regression. Diff-in-diff is more precise, after all. :)*\n",
    "\n",
    "* What is the counterfactual assumption underlying this estimate?\n",
    "\n",
    "*Generally, the logic underpinning the counterfactual is that we cannot observe both treatment and control in the same population. The counterfactual assumption underlying the diff-in-diff estimator is that there are separate populations (poor people that got treatment from progresa and those that didn't) that we care about across the two years, and that if it weren't for the treatment, we would not see the results that we did.*"
   ]
  },
  {
   "cell_type": "markdown",
   "metadata": {
    "ein.tags": "worksheet-0",
    "slideshow": {
     "slide_type": "-"
    }
   },
   "source": [
    "### 2.5 Difference-in-Difference, version 2 (regression)\n",
    "\n",
    "Now use a regression specification to estimate the average treatment\n",
    "effects of the program in a difference-in-differences\n",
    "framework. Include at least 5 control variables.\n",
    "\n",
    "* What is your estimate of the impact of Progresa? Be very specific in\n",
    "  interpreting your coefficients and standard errors, and make sure to\n",
    "  specify exactly what units you are measuring and estimating.\n",
    "\n",
    "* How do these estimates of the treatment effect compare to the\n",
    "  estimates based on the simple difference?\n",
    "\n",
    "* How do these estimates compare to the difference-in-difference\n",
    "  estimates from 2.4 above? What accounts for these differences?\n",
    "\n",
    "* What is the counterfactual assumption underlying this regression? "
   ]
  },
  {
   "cell_type": "code",
   "execution_count": 414,
   "metadata": {
    "autoscroll": false,
    "ein.tags": "worksheet-0",
    "slideshow": {
     "slide_type": "-"
    }
   },
   "outputs": [
    {
     "name": "stdout",
     "output_type": "stream",
     "text": [
      "                            OLS Regression Results                            \n",
      "==============================================================================\n",
      "Dep. Variable:                     sc   R-squared:                       0.027\n",
      "Model:                            OLS   Adj. R-squared:                  0.027\n",
      "Method:                 Least Squares   F-statistic:                     145.4\n",
      "Date:                Wed, 02 May 2018   Prob (F-statistic):               0.00\n",
      "Time:                        13:22:53   Log-Likelihood:                -25423.\n",
      "No. Observations:               58158   AIC:                         5.087e+04\n",
      "Df Residuals:                   58146   BIC:                         5.098e+04\n",
      "Df Model:                          11                                         \n",
      "Covariance Type:            nonrobust                                         \n",
      "==================================================================================\n",
      "                     coef    std err          t      P>|t|      [0.025      0.975]\n",
      "----------------------------------------------------------------------------------\n",
      "Intercept          0.8565      0.012     74.342      0.000       0.834       0.879\n",
      "progresa           0.0034      0.004      0.762      0.446      -0.005       0.012\n",
      "time              -0.0087      0.005     -1.714      0.087      -0.019       0.001\n",
      "progresa:time      0.0313      0.006      4.874      0.000       0.019       0.044\n",
      "dist_sec          -0.0113      0.001    -11.724      0.000      -0.013      -0.009\n",
      "min_dist           0.0006   3.95e-05     14.096      0.000       0.000       0.001\n",
      "indig              0.0169      0.005      3.363      0.001       0.007       0.027\n",
      "dist_sec:indig     0.0054      0.001      3.754      0.000       0.003       0.008\n",
      "fam_n             -0.0015      0.001     -2.109      0.035      -0.003      -0.000\n",
      "hohedu             0.0107      0.001     15.744      0.000       0.009       0.012\n",
      "hohsex             0.0116      0.006      1.893      0.058      -0.000       0.024\n",
      "hohage            -0.0025      0.000    -16.634      0.000      -0.003      -0.002\n",
      "==============================================================================\n",
      "Omnibus:                    14457.221   Durbin-Watson:                   1.422\n",
      "Prob(Omnibus):                  0.000   Jarque-Bera (JB):            27874.524\n",
      "Skew:                          -1.639   Prob(JB):                         0.00\n",
      "Kurtosis:                       3.867   Cond. No.                         949.\n",
      "==============================================================================\n",
      "\n",
      "Warnings:\n",
      "[1] Standard Errors assume that the covariance matrix of the errors is correctly specified.\n"
     ]
    }
   ],
   "source": [
    "# in order to do dif-in-diff we have to figure out a\n",
    "# variable that addresses the intersection effectively.\n",
    "# so lets use our good old dataframe from above\n",
    "difregress = df\n",
    "\n",
    "# and then a trick from ott in class, to resample year as T/F\n",
    "difregress['time'] = (df.year > 97) + 0\n",
    "\n",
    "# and then subset by poor\n",
    "difregress = difregress[df.poor == 1]\n",
    "\n",
    "p = smf.ols(formula = \\\n",
    "            \"sc~progresa + progresa*time + dist_sec\\\n",
    "            + min_dist + dist_sec*indig + indig + fam_n + hohedu + hohsex + hohage\",\\\n",
    "            data=difregress).fit()\n",
    "print(p.summary())"
   ]
  },
  {
   "cell_type": "markdown",
   "metadata": {
    "ein.tags": "worksheet-0",
    "slideshow": {
     "slide_type": "-"
    }
   },
   "source": [
    "* What is your estimate of the impact of Progresa? Be very specific in\n",
    "  interpreting your coefficients and standard errors, and make sure to\n",
    "  specify exactly what units you are measuring and estimating.\n",
    "\n",
    "\n",
    "* How do these estimates of the treatment effect compare to the\n",
    "  estimates based on the simple difference?\n",
    "  \n",
    "*The impact here is lower than the estimates based on simple difference. This is because simple difference is 'simple'. Diff-in-diff is a decidedly more precise way to answer the question, and allows us to introduce interaction terms which produce more granular results.\n",
    "\n",
    "* How do these estimates compare to the difference-in-difference\n",
    "  estimates from 2.4 above? What accounts for these differences?\n",
    "  \n",
    "*In this question, we operationalize treatment and time (year of treatment) differently, looking at the intersection between the two variables. The intersectional effect is almost the same as the diff-in-diff from above, changing only because of the other control variables we decide to add. The ones I picked, for example, bring the regression coefficients to almost exactly what we got for the diff-in-diff above.*\n",
    "\n",
    "* What is the counterfactual assumption underlying this regression? \n",
    "\n",
    "*The counterfactual assumption is similar to the question above--that is, the treatment and control groups would have been the same, if not for our inclusion of treatment, which produces the observed trends to the degree that we see them. In this case, we would assume normally that the factors relating to the head-of-household, the size of the family, whether or not a family is indigenous, the distance from a metro/capital center, and treatment over time would not have \"done anything\" to our population--our two separate populations would be the same, but for the inclusion of the 'progresa' treatment.*"
   ]
  },
  {
   "cell_type": "markdown",
   "metadata": {
    "ein.tags": "worksheet-0",
    "slideshow": {
     "slide_type": "-"
    }
   },
   "source": [
    "### 2.6 Summary\n",
    "\n",
    "* Based on all the analysis you have undertaken to date, do you\n",
    "  believe that Progresa had a causal impact on the enrollment rates of\n",
    "  poor households in Mexico?  Explain by referring to the methods and\n",
    "  results above."
   ]
  },
  {
   "cell_type": "markdown",
   "metadata": {
    "ein.tags": "worksheet-0",
    "slideshow": {
     "slide_type": "-"
    }
   },
   "source": [
    "This is a complicated question to answer. I do believe that we can infer some kind of relationship between Progresa-as-treatment and the increase in enrollment of students in school. In that sense, there is no room to disagree: it has been effective on paper. We saw the p-values and the t-statistics above that suggest significance and results outside of the \"normal\" range. We also saw that, as we used more applied methods (specifically difference-in-difference), our answer for the effect size got more precise. Further, after actually reading the prospectus of the study, there are also some interesting \"game theory\" controls in order to prevent people from gaming the system and just taking the money. Also effective. But we have to consider other factors as well. Is what we see above enough to judge it effective on a social level, or to justify its existence as policy?\n",
    "\n",
    "Overall, I would want to look at the control and treatment groups with a more precise lens. We saw above that there were some statistically significant differences between control and treatment groups, which means that the baseline analysis may not have been as reliable as it could have been.The equally-large effect of 'indigenous-ness' seems to suggest that maybe there's other sorts of social inequity that Progresa doesn't effectively control for.\n",
    "\n",
    "The humanist in me believes that Progresa is a good thing. I believe that education is unquantifiably good for all people. However, the economist (or perhaps burgeoning econometricist) is concerned with the amount of money spent both by the government on this project, and the effect size. Is a 0.03 increase in enrollment good on a population level enough to justify the spending on the program?  I assume so (since the government was probably pitched this project on a possible effect size range from the onset), but I cannot say for certain.\n",
    "\n",
    "The assumption undergirding this entire study is that direct monetary intervention is the thing that is affecting change--without Progresa, this kind of impact would not occur. What about the case that global poverty is decreasing and the standard of living is increasing, year-over-year for a long time? Perhaps we would have observed this effect over the '97-'98 period anyway, through some kind of external confounding effect (did NAFTA change financial arrangements and flows between rural poor and urban workers in Mexico--again, not sure?).\n",
    "\n",
    "It seems that in order to judge this program effective, we have to be students of statistics, history, politics, game theory, and maybe even Spanish culture. I'm not any/all of those things, so I would defer to the numbers and simply say it is effective. To what degree, I'm not sure. "
   ]
  }
 ],
 "metadata": {
  "kernelspec": {
   "display_name": "Python 3",
   "language": "python",
   "name": "python3"
  },
  "language_info": {
   "codemirror_mode": {
    "name": "ipython",
    "version": 3
   },
   "file_extension": ".py",
   "mimetype": "text/x-python",
   "name": "python",
   "nbconvert_exporter": "python",
   "pygments_lexer": "ipython3",
   "version": "3.6.4"
  },
  "name": "ps03_progresa.ipynb"
 },
 "nbformat": 4,
 "nbformat_minor": 1
}
